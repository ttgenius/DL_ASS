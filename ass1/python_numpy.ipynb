{
  "nbformat": 4,
  "nbformat_minor": 0,
  "metadata": {
    "kernelspec": {
      "display_name": "Python 3",
      "language": "python",
      "name": "python3"
    },
    "language_info": {
      "codemirror_mode": {
        "name": "ipython",
        "version": 3
      },
      "file_extension": ".py",
      "mimetype": "text/x-python",
      "name": "python",
      "nbconvert_exporter": "python",
      "pygments_lexer": "ipython3",
      "version": "3.6.5"
    },
    "colab": {
      "name": "Copy of python_numpy.ipynb",
      "provenance": [],
      "collapsed_sections": []
    }
  },
  "cells": [
    {
      "cell_type": "markdown",
      "metadata": {
        "id": "Zqe5-vszXsgM"
      },
      "source": [
        "# COSC440 Python Refresher\n",
        "\n",
        "<img src=\"https://drive.google.com/uc?export=view&id=1dpFAr9rA-qPbGKHXfmKRZvN0BuYzFSUP\" alt=\"meme.jpg\" width=\"400\">\n",
        "\n",
        "This course will be primarily taught in TensorFlow on Python3. TensorFlow is an open source deep learning library created by Google. Currently it is the most popular and widely used library.\n",
        "\n",
        "This lab is a refresher on Python3 and basic linear algebra; you will be expected to be familiar with both in this class. **Note: this is a class on deep learning, not software engineering. For every upcoming assignment and labs, you will be expected to have a working knowledge of Python and linear algebra.**\n",
        "\n",
        "Note: You are welcome to install Python3 and setup TensorFlow on your own\n",
        "computer and use your own IDE / local Jupyter notebook if you want. We will not provide any support for this. All assignments must be submitted as links to publicly accessible Colab Notebooks such that they are self contained (i.e. if you have code in github it must be publicly cloneable and downloaded as a pre-amble block in your Colab Notebook)."
      ]
    },
    {
      "cell_type": "markdown",
      "metadata": {
        "id": "GP3Ic_p-7b0i"
      },
      "source": [
        "## Hello World ##\n",
        "Printing in Python can be done with the `print` function."
      ]
    },
    {
      "cell_type": "code",
      "metadata": {
        "id": "uRibIYcY7b0j",
        "colab": {
          "base_uri": "https://localhost:8080/"
        },
        "outputId": "e6d7b690-5a1a-4c06-fe54-3e13289ffab7"
      },
      "source": [
        "print(\"Hello World!\")"
      ],
      "execution_count": null,
      "outputs": [
        {
          "output_type": "stream",
          "text": [
            "Hello World!\n"
          ],
          "name": "stdout"
        }
      ]
    },
    {
      "cell_type": "markdown",
      "metadata": {
        "id": "6E-RBu5i7b0n"
      },
      "source": [
        "## Libraries ##\n",
        "\n",
        "Python has a number of built-in modules and libraries that offer convenient access to useful functions. These libraries can be imported by using the built-in `import` function followed by the library name.\n",
        "\n",
        "Here is one example with the `random` library that can be used for generating a series of random integers within some specified range. Note that `for i in range(5)` is analogous to `for (int i = 0; i < 5; i++)` in Java."
      ]
    },
    {
      "cell_type": "code",
      "metadata": {
        "id": "7bkyT-KI7b0o",
        "colab": {
          "base_uri": "https://localhost:8080/"
        },
        "outputId": "b12b6d06-7f67-44c1-9b8d-754616b16dda"
      },
      "source": [
        "import random\n",
        "for i in range(5):\n",
        "    print(random.randint(10,99))"
      ],
      "execution_count": null,
      "outputs": [
        {
          "output_type": "stream",
          "text": [
            "63\n",
            "48\n",
            "27\n",
            "65\n",
            "54\n"
          ],
          "name": "stdout"
        }
      ]
    },
    {
      "cell_type": "markdown",
      "metadata": {
        "id": "moY_F_OW7b0r"
      },
      "source": [
        "## Indentation ##\n",
        "Notice that Python uses indentation and colons in order to specify scope, as opposed to brackets. This means that you need to be careful to make sure that all of your code is indented correctly."
      ]
    },
    {
      "cell_type": "code",
      "metadata": {
        "id": "Py_pxO7o7b0s",
        "colab": {
          "base_uri": "https://localhost:8080/"
        },
        "outputId": "2345c3e6-5109-40c8-d61b-c479f4ca3be9"
      },
      "source": [
        "x = 0\n",
        " \n",
        "while x < 10:\n",
        "    if x % 2 == 0:\n",
        "        print(x)\n",
        "    x += 1\n",
        " \n",
        "print('done.')"
      ],
      "execution_count": null,
      "outputs": [
        {
          "output_type": "stream",
          "text": [
            "0\n",
            "2\n",
            "4\n",
            "6\n",
            "8\n",
            "done.\n"
          ],
          "name": "stdout"
        }
      ]
    },
    {
      "cell_type": "markdown",
      "metadata": {
        "id": "qc8GsIzC7b0u"
      },
      "source": [
        "## Dynamic Typing ##\n",
        "In Python, variables are associated with single objects and no data types. Furthermore, primitive data types in Python are immutable."
      ]
    },
    {
      "cell_type": "code",
      "metadata": {
        "id": "V5dtS-3m7b0v",
        "colab": {
          "base_uri": "https://localhost:8080/"
        },
        "outputId": "28d09b05-cdcc-430c-a7a5-9e5639aac033"
      },
      "source": [
        "var = 5\n",
        "print(var)\n",
        "print(type(var))\n",
        "\n",
        "var = 'spam'\n",
        "print(var)\n",
        "print(type(var))"
      ],
      "execution_count": null,
      "outputs": [
        {
          "output_type": "stream",
          "text": [
            "5\n",
            "<class 'int'>\n",
            "spam\n",
            "<class 'str'>\n"
          ],
          "name": "stdout"
        }
      ]
    },
    {
      "cell_type": "markdown",
      "metadata": {
        "id": "BubRxDwH7b0x"
      },
      "source": [
        "## Strings ##\n",
        "Python supports strings along with the expected indexing schema and methods."
      ]
    },
    {
      "cell_type": "code",
      "metadata": {
        "id": "b3okI-KD7b0y",
        "colab": {
          "base_uri": "https://localhost:8080/"
        },
        "outputId": "1f0c424a-4a4c-467d-cb58-6dfde30e717c"
      },
      "source": [
        "mystring = 'ham and eggs'\n",
        "print(mystring[0:4]) # note that the first index is inclusive and the second index is exclusive\n",
        "print(mystring.find('and'))\n",
        "print(mystring.split(' '))"
      ],
      "execution_count": null,
      "outputs": [
        {
          "output_type": "stream",
          "text": [
            "ham \n",
            "4\n",
            "['ham', 'and', 'eggs']\n"
          ],
          "name": "stdout"
        }
      ]
    },
    {
      "cell_type": "markdown",
      "metadata": {
        "id": "nW0SLcc37b00"
      },
      "source": [
        "## Lists ##\n",
        "Lists/arrays are mutable objects in Python."
      ]
    },
    {
      "cell_type": "code",
      "metadata": {
        "id": "g9HgHZCk7b01",
        "colab": {
          "base_uri": "https://localhost:8080/"
        },
        "outputId": "0cb4612c-d216-42a9-9286-e4a22c6bf466"
      },
      "source": [
        "mylist = [1, 2]\n",
        "mylist.append(\"three\")\n",
        "\n",
        "print(mylist)"
      ],
      "execution_count": null,
      "outputs": [
        {
          "output_type": "stream",
          "text": [
            "[1, 2, 'three']\n"
          ],
          "name": "stdout"
        }
      ]
    },
    {
      "cell_type": "markdown",
      "metadata": {
        "id": "vODt4GNd7b04"
      },
      "source": [
        "## Tuples ##\n",
        "Tuples are like immutable lists. However their constituent elements can be altered."
      ]
    },
    {
      "cell_type": "code",
      "metadata": {
        "id": "X6UVltx_7b04",
        "colab": {
          "base_uri": "https://localhost:8080/"
        },
        "outputId": "f74435cb-3dc1-4ec1-8677-260d67fa0d5d"
      },
      "source": [
        "tup1 = (12, 34.56)\n",
        "tup2 = ('abc', 'xyz')\n",
        "\n",
        "try:\n",
        "    tup1[0] = 100;\n",
        "except TypeError:\n",
        "    print('See why this returns an error?')\n",
        "\n",
        "\n",
        "tup3 = tup1 + tup2 # this concatenates the two tuples\n",
        "print(tup3)\n",
        "print(len(tup3))\n",
        "for x in tup3: print(x)"
      ],
      "execution_count": null,
      "outputs": [
        {
          "output_type": "stream",
          "text": [
            "See why this returns an error?\n",
            "(12, 34.56, 'abc', 'xyz')\n",
            "4\n",
            "12\n",
            "34.56\n",
            "abc\n",
            "xyz\n"
          ],
          "name": "stdout"
        }
      ]
    },
    {
      "cell_type": "markdown",
      "metadata": {
        "id": "O7FkCwvW7b07"
      },
      "source": [
        "## Dictionaries ##\n",
        "Python also supports dictionaries (hash maps) for mapping between specified keys and values."
      ]
    },
    {
      "cell_type": "code",
      "metadata": {
        "id": "4RKLsTHt7b09",
        "colab": {
          "base_uri": "https://localhost:8080/"
        },
        "outputId": "ff5c89f6-d055-4cd0-f599-d5e745b76e61"
      },
      "source": [
        "numbers = {'one': 1, 'two': 2, 'three': 3, 'four': 4 }\n",
        "print(numbers['one'])\n",
        "del numbers['one']  # Remove an entry from the dictionary\n",
        "\n",
        "try:\n",
        "    print(numbers['one'])\n",
        "except KeyError:\n",
        "    print(\"This shouldn't work, since we deleted numbers['one'] above\")\n",
        "\n",
        "print(numbers)\n",
        "print(numbers.keys())\n",
        "print(numbers.values())"
      ],
      "execution_count": null,
      "outputs": [
        {
          "output_type": "stream",
          "text": [
            "1\n",
            "This shouldn't work, since we deleted numbers['one'] above\n",
            "{'two': 2, 'three': 3, 'four': 4}\n",
            "dict_keys(['two', 'three', 'four'])\n",
            "dict_values([2, 3, 4])\n"
          ],
          "name": "stdout"
        }
      ]
    },
    {
      "cell_type": "markdown",
      "metadata": {
        "id": "oRSNo34F7b0_"
      },
      "source": [
        "## Name binding ##\n",
        "Notice that Python assignment binds a name to a particular object. In other words, objects are pass-by-reference. Primitives like integers, however, are pass-by-value.\n",
        "\n",
        "***If your goal is to make an independent clone of an object, you should use the `deepcopy` function from Python's `copy` library. Alternatively, you can use the `str` function to copy a string, `list` to copy a list, and so on."
      ]
    },
    {
      "cell_type": "code",
      "metadata": {
        "id": "315sAl-X7b1B",
        "colab": {
          "base_uri": "https://localhost:8080/"
        },
        "outputId": "9eab3cbc-bf2e-4fce-837f-7251dcfbd72b"
      },
      "source": [
        "a = [1, 2]\n",
        "b = a\n",
        "print(b, a)\n",
        "b.append(3)\n",
        "print(a)\n",
        "\n",
        "a = 1\n",
        "b = a\n",
        "print(b, a)\n",
        "b = b + 1\n",
        "print(a)\n",
        "print(b)"
      ],
      "execution_count": null,
      "outputs": [
        {
          "output_type": "stream",
          "text": [
            "[1, 2] [1, 2]\n",
            "[1, 2, 3]\n",
            "1 1\n",
            "1\n",
            "2\n"
          ],
          "name": "stdout"
        }
      ]
    },
    {
      "cell_type": "markdown",
      "metadata": {
        "id": "4P08298f7b1D"
      },
      "source": [
        "## Control Flow ##\n",
        "Here are examples of if-else statements, for loops, and while loops in Python. Notice how identation controls scope in each statement."
      ]
    },
    {
      "cell_type": "code",
      "metadata": {
        "id": "WwnCCuCg7b1D",
        "colab": {
          "base_uri": "https://localhost:8080/"
        },
        "outputId": "3ee45d52-7013-4220-e41a-4ff575f02f74"
      },
      "source": [
        "age = 22\n",
        " \n",
        "if age < 13:\n",
        "    print('kid')\n",
        "elif age < 18:\n",
        "    print('teen')\n",
        "else:\n",
        "    print('adult')"
      ],
      "execution_count": null,
      "outputs": [
        {
          "output_type": "stream",
          "text": [
            "adult\n"
          ],
          "name": "stdout"
        }
      ]
    },
    {
      "cell_type": "code",
      "metadata": {
        "id": "l6nZyVie7b1F",
        "colab": {
          "base_uri": "https://localhost:8080/"
        },
        "outputId": "d062f43a-cef7-4332-c28c-452b4c412b54"
      },
      "source": [
        "for i in range(5):\n",
        "    pass\n",
        " \n",
        "for i in [0, 1, 2, 3, 4]:\n",
        "    if i > 5:\n",
        "        break\n",
        "else:\n",
        "    print('Python supports the else keyword for for-loops, which execute if the loop completes without breaking')"
      ],
      "execution_count": null,
      "outputs": [
        {
          "output_type": "stream",
          "text": [
            "Python supports the else keyword for for-loops, which execute if the loop completes without breaking\n"
          ],
          "name": "stdout"
        }
      ]
    },
    {
      "cell_type": "code",
      "metadata": {
        "id": "Rhkfyn9A7b1I",
        "colab": {
          "base_uri": "https://localhost:8080/"
        },
        "outputId": "a8b754fe-c614-4fb4-b671-8ec5808642c7"
      },
      "source": [
        "x = 1024\n",
        " \n",
        "while x > 1:\n",
        "    x = x / 2\n",
        "    if (x % 10) != 2:\n",
        "        continue\n",
        "    print(x)"
      ],
      "execution_count": null,
      "outputs": [
        {
          "output_type": "stream",
          "text": [
            "512.0\n",
            "32.0\n",
            "2.0\n"
          ],
          "name": "stdout"
        }
      ]
    },
    {
      "cell_type": "markdown",
      "metadata": {
        "id": "CBVsh5pZ7b1N"
      },
      "source": [
        "## Functions ##\n",
        "Specify functions using the `def` keyword."
      ]
    },
    {
      "cell_type": "code",
      "metadata": {
        "id": "4ORqZN287b1N",
        "colab": {
          "base_uri": "https://localhost:8080/"
        },
        "outputId": "2107de0e-750d-4530-8b7f-45fb1a14c04a"
      },
      "source": [
        "def example_func(s=\"hello!\"):\n",
        "    print(s)\n",
        " \n",
        "example_func(\"goodbye!\")\n",
        "example_func() # This is equivalent to exapmle_func(\"hello!\") since we give the parameter s a default value of \"hello!\""
      ],
      "execution_count": null,
      "outputs": [
        {
          "output_type": "stream",
          "text": [
            "goodbye!\n",
            "hello!\n"
          ],
          "name": "stdout"
        }
      ]
    },
    {
      "cell_type": "markdown",
      "metadata": {
        "id": "C-9xGqO07b1Q"
      },
      "source": [
        "## Classes ##\n",
        "Specify classes using the `class` keyword. Notice the `__` around the first method of this class; this denotes what are more commonly referred to as [\"magic methods\"](http://minhhh.github.io/posts/a-guide-to-pythons-magic-methods) in Python. The magic method defined for this class is the constructor that you will need to define for all your classes."
      ]
    },
    {
      "cell_type": "code",
      "metadata": {
        "id": "07kcUmPR7b1Q",
        "colab": {
          "base_uri": "https://localhost:8080/"
        },
        "outputId": "9064aff8-3b5a-40f0-af77-6a03bedc94d7"
      },
      "source": [
        "import math\n",
        " \n",
        "class Vector2:\n",
        "    def __init__(self, x, y):\n",
        "        self.x = x\n",
        "        self.y = y\n",
        " \n",
        "    def len(self):\n",
        "        return math.sqrt(self.x ** 2 +\n",
        "                         self.y ** 2)\n",
        "    \n",
        "    _DoNotTouch = 10\n",
        " \n",
        " \n",
        "v = Vector2(3, 4)\n",
        "print(\"({},{}):\".format(v.x, v.y), \\\n",
        "      \"len = {}\".format(v.len()))"
      ],
      "execution_count": null,
      "outputs": [
        {
          "output_type": "stream",
          "text": [
            "(3,4): len = 5.0\n"
          ],
          "name": "stdout"
        }
      ]
    },
    {
      "cell_type": "markdown",
      "metadata": {
        "id": "0CmoTBPn7b1S"
      },
      "source": [
        "## Fibonacci"
      ]
    },
    {
      "cell_type": "code",
      "metadata": {
        "id": "d-H4qosk7b1U",
        "colab": {
          "base_uri": "https://localhost:8080/",
          "height": 191
        },
        "outputId": "d9a6e97c-3404-4550-bb59-2805e517f085"
      },
      "source": [
        "from typing import List\n",
        "# TODO implement fibonacci numbers\n",
        "# parameters: num -> int, numbers of fibonacci's to generate\n",
        "# returns:    sequence -> list, generated fibonacci sequence\n",
        "def fibonacci(num: int) -> List[int]:\n",
        "    sequence = []\n",
        "    return sequence\n",
        "\n",
        "assert(fibonacci(10)[9] == 34)"
      ],
      "execution_count": null,
      "outputs": [
        {
          "output_type": "error",
          "ename": "IndexError",
          "evalue": "ignored",
          "traceback": [
            "\u001b[0;31m---------------------------------------------------------------------------\u001b[0m",
            "\u001b[0;31mIndexError\u001b[0m                                Traceback (most recent call last)",
            "\u001b[0;32m<ipython-input-15-e6f2b779b6ef>\u001b[0m in \u001b[0;36m<module>\u001b[0;34m()\u001b[0m\n\u001b[1;32m      7\u001b[0m     \u001b[0;32mreturn\u001b[0m \u001b[0msequence\u001b[0m\u001b[0;34m\u001b[0m\u001b[0;34m\u001b[0m\u001b[0m\n\u001b[1;32m      8\u001b[0m \u001b[0;34m\u001b[0m\u001b[0m\n\u001b[0;32m----> 9\u001b[0;31m \u001b[0;32massert\u001b[0m\u001b[0;34m(\u001b[0m\u001b[0mfibonacci\u001b[0m\u001b[0;34m(\u001b[0m\u001b[0;36m10\u001b[0m\u001b[0;34m)\u001b[0m\u001b[0;34m[\u001b[0m\u001b[0;36m9\u001b[0m\u001b[0;34m]\u001b[0m \u001b[0;34m==\u001b[0m \u001b[0;36m34\u001b[0m\u001b[0;34m)\u001b[0m\u001b[0;34m\u001b[0m\u001b[0;34m\u001b[0m\u001b[0m\n\u001b[0m",
            "\u001b[0;31mIndexError\u001b[0m: list index out of range"
          ]
        }
      ]
    },
    {
      "cell_type": "markdown",
      "metadata": {
        "id": "pU4PAF0G7b1X"
      },
      "source": [
        "## Linear Algebra Refresher\n",
        "Before moving on to NumPy, we need to talk about our favourite type of math: Linear Algebra. Most of the operations in Deep Learning are done by matrices. It's both practical and easy to optimise using very powerful parallel hardwares like GPUs. For the purpose of this lab and most of this course, we only really need to know about matrix multiplications. Let's take a look at how that works."
      ]
    },
    {
      "cell_type": "markdown",
      "metadata": {
        "id": "ag78QcCj7b1Z"
      },
      "source": [
        "Given the following two matrices: \n",
        "``` Python\n",
        "A = [[1,2,3],[4,5,6]]      # Shape=(2,3)\n",
        "B = [[7,8],[9,10],[11,12]] # Shape=(3,2)\n",
        "```\n",
        "And we want to find A * B, to do this we dot the rows of A and the columns of B to find each element in AB:\n",
        "<img alt=\"matrix 1\" src='https://drive.google.com/uc?export=view&id=\n",
        "1lVFYIBIJE4H-lDPbwmwzorpxLNWuFX-H'>\n",
        "<img alt=\"matrix 2\" src='https://drive.google.com/uc?export=view&id=\n",
        "1ZvLso_4JI5OJJKh93MNBhgq3WMHSlp-H'>\n",
        "<img alt=\"matrix 3\" src='https://drive.google.com/uc?export=view&id=\n",
        "1iN7nASb6lCBh_uP1iUr6ymuyYb-crhVm'>\n",
        "\n",
        "Take note of the resultant shape of the multiplication. When we have a matrix of shape (N, M) multiplied by a matrix of shape (M, V), we end up with a matrix of shape (N, V). If the last dimension of the first matrix and the first dimension of the matrix do not match, the multiplication won't work. \n",
        "\n",
        "Matrix multiplication can also work with a vector and a matrix since a vector is a (length, 1) matrix."
      ]
    },
    {
      "cell_type": "markdown",
      "metadata": {
        "id": "4Po1KjCT7b1a"
      },
      "source": [
        "## NumPy (Numeric Python) ##\n",
        "For much of this course, you will often find yourself in need of creating, modifying, and combining n-dimensional arrays. Numpy is the standard Python library for quickly, cleanly, and efficiently performing all of these functions.\n",
        "\n",
        "Here are just a few examples with basic Numpy arrays. \n",
        "\n",
        "For a more in-depth view of the other useful features of Numpy, visit [the official site](https://numpy.org/doc/stable/index.html) and [this tutorial](http://cs231n.github.io/python-numpy-tutorial/#numpy)."
      ]
    },
    {
      "cell_type": "markdown",
      "metadata": {
        "id": "Yg3eGEQB7b1b"
      },
      "source": [
        "### Basics"
      ]
    },
    {
      "cell_type": "code",
      "metadata": {
        "id": "obhsLnYK7b1c"
      },
      "source": [
        "import numpy as np\n",
        "\n",
        "a = np.array([1, 2, 3])   # Create a rank 1 array\n",
        "print(a.shape)            # Prints \"(3,)\"\n",
        "print(a[0], a[1], a[2])   # Prints \"1 2 3\"\n",
        "a[0] = 5                  # Change an element of the array\n",
        "print(a)                  # Prints \"[5, 2, 3]\"\n",
        "\n",
        "b = np.array([[1,2,3],[4,5,6]])    # Create a rank 2 array\n",
        "print(b.shape)                     # Prints \"(2, 3)\"\n",
        "print(b[0, 0], b[0, 1], b[1, 0])   # Prints \"1 2 4\""
      ],
      "execution_count": null,
      "outputs": []
    },
    {
      "cell_type": "markdown",
      "metadata": {
        "id": "TbOKKI-97b1f"
      },
      "source": [
        "### Some custom functions to create arrays."
      ]
    },
    {
      "cell_type": "code",
      "metadata": {
        "id": "Xb4QgvWK7b1g"
      },
      "source": [
        "import numpy as np\n",
        "\n",
        "a = np.zeros((2,2))   # Create an array of all zeros\n",
        "print(a)              # Prints \"[[ 0.  0.]\n",
        "                      #          [ 0.  0.]]\"\n",
        "\n",
        "b = np.ones((1,2))    # Create an array of all ones\n",
        "print(b)              # Prints \"[[ 1.  1.]]\"\n",
        "\n",
        "c = np.full((2,2), 7)  # Create a constant array\n",
        "print(c)               # Prints \"[[ 7.  7.]\n",
        "                       #          [ 7.  7.]]\"\n",
        "\n",
        "d = np.eye(2)         # Create a 2x2 identity matrix\n",
        "print(d)              # Prints \"[[ 1.  0.]\n",
        "                      #          [ 0.  1.]]\"\n",
        "\n",
        "e = np.random.random((2,2))  # Create an array filled with random values\n",
        "print(e)                     # Might print \"[[ 0.91940167  0.08143941]\n",
        "                             #               [ 0.68744134  0.87236687]]\""
      ],
      "execution_count": null,
      "outputs": []
    },
    {
      "cell_type": "markdown",
      "metadata": {
        "id": "hQbpOgu57b1i"
      },
      "source": [
        "### Array operations\n",
        "Basic mathematical functions operate elementwise on arrays, and are available both as operator overloads and as functions in the numpy module:"
      ]
    },
    {
      "cell_type": "code",
      "metadata": {
        "id": "oVMngTXW7b1j"
      },
      "source": [
        "import numpy as np\n",
        "\n",
        "x = np.array([[1,2],[3,4]], dtype=np.float64)\n",
        "y = np.array([[5,6],[7,8]], dtype=np.float64)\n",
        "\n",
        "# Elementwise sum; both produce an array\n",
        "# [[ 6.0  8.0]\n",
        "#  [10.0 12.0]]\n",
        "print(x + y)\n",
        "print(np.add(x, y))\n",
        "\n",
        "# Elementwise difference; both produce an array\n",
        "# [[-4.0 -4.0]\n",
        "#  [-4.0 -4.0]]\n",
        "print(x - y)\n",
        "print(np.subtract(x, y))\n",
        "\n",
        "# Elementwise product; both produce an array\n",
        "# [[ 5.0 12.0]\n",
        "#  [21.0 32.0]]\n",
        "print(x * y)\n",
        "print(np.multiply(x, y))\n",
        "\n",
        "# Elementwise division; both produce an array\n",
        "# [[ 0.2         0.33333333]\n",
        "#  [ 0.42857143  0.5       ]]\n",
        "print(x / y)\n",
        "print(np.divide(x, y))\n",
        "\n",
        "# Elementwise square root; produces an array\n",
        "# [[ 1.          1.41421356]\n",
        "#  [ 1.73205081  2.        ]]\n",
        "print(np.sqrt(x))\n",
        "\n",
        "# Reshape; changes the dimensions of a matrix\n",
        "# [[ 1.  2.  3.  4.]]\n",
        "x2 = np.reshape(x, [1, 4])\n",
        "print(x2)\n",
        "\n",
        "# Max; returns the value of the largest element\n",
        "# 4.0\n",
        "print(np.max(x2))\n",
        "\n",
        "# Argmax; returns the index of the largest element\n",
        "# 3\n",
        "print(np.argmax(x2))"
      ],
      "execution_count": null,
      "outputs": []
    },
    {
      "cell_type": "markdown",
      "metadata": {
        "id": "4knNHv2I7b1p"
      },
      "source": [
        "### Matrix multiplication"
      ]
    },
    {
      "cell_type": "code",
      "metadata": {
        "id": "qTpkesCM7b1p"
      },
      "source": [
        "import numpy as np\n",
        "\n",
        "x = np.array([[1,2],[3,4]])\n",
        "y = np.array([[5,6],[7,8]])\n",
        "\n",
        "v = np.array([9,10])\n",
        "w = np.array([11, 12])\n",
        "\n",
        "# Inner product of vectors; both produce 219\n",
        "print(v.dot(w))\n",
        "print(np.dot(v, w))\n",
        "\n",
        "# Matrix / vector product; both produce the rank 1 array [29 67]\n",
        "print(x.dot(v))\n",
        "print(np.dot(x, v))\n",
        "\n",
        "# Matrix / matrix product; both produce the rank 2 array\n",
        "# Matmul and dot are the same for 2D operations, but differ when we increase dimensionalities.\n",
        "# [[19 22]\n",
        "#  [43 50]]\n",
        "print(x.dot(y))\n",
        "print(np.matmul(x, y))"
      ],
      "execution_count": null,
      "outputs": []
    },
    {
      "cell_type": "markdown",
      "metadata": {
        "id": "39QMjZvi7b1r"
      },
      "source": [
        "### Broadcasting\n",
        "Broadcasting is a powerful mechanism that allows numpy to work with arrays of different shapes when performing arithmetic operations. Frequently we have a smaller array and a larger array, and we want to use the smaller array multiple times to perform some operation on the larger array."
      ]
    },
    {
      "cell_type": "code",
      "metadata": {
        "id": "YzQjASMU7b1s"
      },
      "source": [
        "import numpy as np\n",
        "\n",
        "# We will add the vector v to each row of the matrix x,\n",
        "# storing the result in the matrix y\n",
        "x = np.array([[1,2,3], [4,5,6], [7,8,9], [10, 11, 12]])\n",
        "v = np.array([1, 0, 1])\n",
        "y = x + v  # Add v to each row of x using broadcasting\n",
        "print(y)  # Prints \"[[ 2  2  4]\n",
        "          #          [ 5  5  7]\n",
        "          #          [ 8  8 10]\n",
        "          #          [11 11 13]]\""
      ],
      "execution_count": null,
      "outputs": []
    },
    {
      "cell_type": "markdown",
      "metadata": {
        "id": "hoyLSlCw7b1u"
      },
      "source": [
        "### Multiple Dimensional Matrix Multiplication"
      ]
    },
    {
      "cell_type": "code",
      "metadata": {
        "id": "3_Rr3-BV7b1v"
      },
      "source": [
        "import numpy as np\n",
        "\n",
        "# Let's say we have the following matrix A\n",
        "A = np.random.random((50, 100, 20))\n",
        "# We can imagine A as 50 instances of (100,20) matrices.\n",
        "# We have the following matrix B\n",
        "B = np.random.random((20,40))\n",
        "# We want to multiply each (100,20) instance of A by B, we can do this because the dimensions match up: 20 = 20\n",
        "print(np.dot(A,B).shape) \n",
        "# should be (50, 100, 40), each of the 50 (100,20) is multiplied by (20,40) matrix to yield (100, 40)"
      ],
      "execution_count": null,
      "outputs": []
    },
    {
      "cell_type": "markdown",
      "metadata": {
        "id": "nJ_kNNDW7b1x"
      },
      "source": [
        "#### P.S. on Numpy\n",
        "Stackoverflow it."
      ]
    },
    {
      "cell_type": "markdown",
      "metadata": {
        "id": "hYTmCUZT7b1x"
      },
      "source": [
        "### Numpy Matrix Operations (TODO)\n",
        "Implement some of the numpy matrix operations described earlier. Copy/paste your completed code into your Assignment 1 submission "
      ]
    },
    {
      "cell_type": "code",
      "metadata": {
        "id": "VjyasiSA7b1y"
      },
      "source": [
        "import numpy as np\n",
        "A = np.array([[0,1,2],[3,4,5]]) # shape (2,3)\n",
        "B = np.array([[1,1,1]]) # shape (1,3)\n",
        "C = np.array([[-1,-1,-1],[1,1,1]]) # shape (2,3)\n",
        "\n",
        "# TODO\n",
        "# Create matrix \"D\" as A - B using broadcasting\n",
        "D = A - B\n",
        "\n",
        "# Create matrix \"E\" with shape (3,2) by reshaping C\n",
        "E = np.reshape(C, (3, 2))\n",
        "\n",
        "# Create matrix \"F\" with shape (2,2) by matrix multiplying \"D\" by \"E\"\n",
        "F = np.dot(D, E)\n",
        "\n",
        "assert(np.all(D == [[-1,0,1],[2,3,4]]))\n",
        "assert(np.all(E == [[-1,-1],[-1,1],[1,1]]))\n",
        "assert(np.all(F == [[2,2],[-1,5]]))"
      ],
      "execution_count": 1,
      "outputs": []
    },
    {
      "cell_type": "markdown",
      "metadata": {
        "id": "yOkmB3cN7b11"
      },
      "source": [
        "## Acknowledgements & Sources ##\n",
        "This tutorial was adapted from an analogous tutorial and slides developed by Zhenyu Zhou, Richard Guo, Cam Allen-Lloyd, and Nakul Gopalan, and is based on the\n",
        "Python Numpy Tutorial written by Justin Johnson for Stanford's CS231n: Convolutional Neural Networks for Visual Recognition.\n",
        "\n",
        "Wikibooks\n",
        "\n",
        "A Guide to Python's Magic Methods by Ha Minh\n",
        "\n",
        "This lab is written by Bryce Blinn and James Wang, with the original version by Philip Xu."
      ]
    }
  ]
}